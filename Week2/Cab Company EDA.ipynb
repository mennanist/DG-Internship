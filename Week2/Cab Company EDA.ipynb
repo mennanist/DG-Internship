{
 "cells": [
  {
   "cell_type": "markdown",
   "metadata": {},
   "source": [
    "##  <h1> <center> XYZ CAB ANALYSIS </center> </h1> \n",
    "#### <center> Week 2 of DG Internship </center>"
   ]
  },
  {
   "cell_type": "code",
   "execution_count": 1,
   "metadata": {},
   "outputs": [],
   "source": [
    "#loading librarires\n",
    "import pandas as pd\n",
    "import seaborn as sns\n",
    "import numpy as np\n",
    "from matplotlib import pyplot as plt\n",
    "%matplotlib inline\n",
    "pd.options.display.float_format = '{:,.2f}'.format"
   ]
  },
  {
   "cell_type": "code",
   "execution_count": 14,
   "metadata": {},
   "outputs": [
    {
     "data": {
      "text/html": [
       "<div>\n",
       "<style scoped>\n",
       "    .dataframe tbody tr th:only-of-type {\n",
       "        vertical-align: middle;\n",
       "    }\n",
       "\n",
       "    .dataframe tbody tr th {\n",
       "        vertical-align: top;\n",
       "    }\n",
       "\n",
       "    .dataframe thead th {\n",
       "        text-align: right;\n",
       "    }\n",
       "</style>\n",
       "<table border=\"1\" class=\"dataframe\">\n",
       "  <thead>\n",
       "    <tr style=\"text-align: right;\">\n",
       "      <th></th>\n",
       "      <th>Transaction ID</th>\n",
       "      <th>Date of Travel</th>\n",
       "      <th>Company</th>\n",
       "      <th>City</th>\n",
       "      <th>KM Travelled</th>\n",
       "      <th>Price Charged</th>\n",
       "      <th>Cost of Trip</th>\n",
       "    </tr>\n",
       "  </thead>\n",
       "  <tbody>\n",
       "    <tr>\n",
       "      <th>0</th>\n",
       "      <td>10000011</td>\n",
       "      <td>42377</td>\n",
       "      <td>Pink Cab</td>\n",
       "      <td>ATLANTA GA</td>\n",
       "      <td>30.45</td>\n",
       "      <td>370.95</td>\n",
       "      <td>313.63</td>\n",
       "    </tr>\n",
       "    <tr>\n",
       "      <th>1</th>\n",
       "      <td>10000012</td>\n",
       "      <td>42375</td>\n",
       "      <td>Pink Cab</td>\n",
       "      <td>ATLANTA GA</td>\n",
       "      <td>28.62</td>\n",
       "      <td>358.52</td>\n",
       "      <td>334.85</td>\n",
       "    </tr>\n",
       "    <tr>\n",
       "      <th>2</th>\n",
       "      <td>10000013</td>\n",
       "      <td>42371</td>\n",
       "      <td>Pink Cab</td>\n",
       "      <td>ATLANTA GA</td>\n",
       "      <td>9.04</td>\n",
       "      <td>125.20</td>\n",
       "      <td>97.63</td>\n",
       "    </tr>\n",
       "    <tr>\n",
       "      <th>3</th>\n",
       "      <td>10000014</td>\n",
       "      <td>42376</td>\n",
       "      <td>Pink Cab</td>\n",
       "      <td>ATLANTA GA</td>\n",
       "      <td>33.17</td>\n",
       "      <td>377.40</td>\n",
       "      <td>351.60</td>\n",
       "    </tr>\n",
       "    <tr>\n",
       "      <th>4</th>\n",
       "      <td>10000015</td>\n",
       "      <td>42372</td>\n",
       "      <td>Pink Cab</td>\n",
       "      <td>ATLANTA GA</td>\n",
       "      <td>8.73</td>\n",
       "      <td>114.62</td>\n",
       "      <td>97.78</td>\n",
       "    </tr>\n",
       "    <tr>\n",
       "      <th>5</th>\n",
       "      <td>10000016</td>\n",
       "      <td>42376</td>\n",
       "      <td>Pink Cab</td>\n",
       "      <td>ATLANTA GA</td>\n",
       "      <td>6.06</td>\n",
       "      <td>72.43</td>\n",
       "      <td>63.02</td>\n",
       "    </tr>\n",
       "    <tr>\n",
       "      <th>6</th>\n",
       "      <td>10000017</td>\n",
       "      <td>42372</td>\n",
       "      <td>Pink Cab</td>\n",
       "      <td>AUSTIN TX</td>\n",
       "      <td>44.00</td>\n",
       "      <td>576.15</td>\n",
       "      <td>475.20</td>\n",
       "    </tr>\n",
       "    <tr>\n",
       "      <th>7</th>\n",
       "      <td>10000018</td>\n",
       "      <td>42376</td>\n",
       "      <td>Pink Cab</td>\n",
       "      <td>AUSTIN TX</td>\n",
       "      <td>35.65</td>\n",
       "      <td>466.10</td>\n",
       "      <td>377.89</td>\n",
       "    </tr>\n",
       "    <tr>\n",
       "      <th>8</th>\n",
       "      <td>10000019</td>\n",
       "      <td>42381</td>\n",
       "      <td>Pink Cab</td>\n",
       "      <td>BOSTON MA</td>\n",
       "      <td>14.40</td>\n",
       "      <td>191.61</td>\n",
       "      <td>146.88</td>\n",
       "    </tr>\n",
       "    <tr>\n",
       "      <th>9</th>\n",
       "      <td>10000020</td>\n",
       "      <td>42375</td>\n",
       "      <td>Pink Cab</td>\n",
       "      <td>BOSTON MA</td>\n",
       "      <td>10.89</td>\n",
       "      <td>156.98</td>\n",
       "      <td>113.26</td>\n",
       "    </tr>\n",
       "  </tbody>\n",
       "</table>\n",
       "</div>"
      ],
      "text/plain": [
       "   Transaction ID  Date of Travel   Company        City  KM Travelled  \\\n",
       "0        10000011           42377  Pink Cab  ATLANTA GA         30.45   \n",
       "1        10000012           42375  Pink Cab  ATLANTA GA         28.62   \n",
       "2        10000013           42371  Pink Cab  ATLANTA GA          9.04   \n",
       "3        10000014           42376  Pink Cab  ATLANTA GA         33.17   \n",
       "4        10000015           42372  Pink Cab  ATLANTA GA          8.73   \n",
       "5        10000016           42376  Pink Cab  ATLANTA GA          6.06   \n",
       "6        10000017           42372  Pink Cab   AUSTIN TX         44.00   \n",
       "7        10000018           42376  Pink Cab   AUSTIN TX         35.65   \n",
       "8        10000019           42381  Pink Cab   BOSTON MA         14.40   \n",
       "9        10000020           42375  Pink Cab   BOSTON MA         10.89   \n",
       "\n",
       "   Price Charged  Cost of Trip  \n",
       "0         370.95        313.63  \n",
       "1         358.52        334.85  \n",
       "2         125.20         97.63  \n",
       "3         377.40        351.60  \n",
       "4         114.62         97.78  \n",
       "5          72.43         63.02  \n",
       "6         576.15        475.20  \n",
       "7         466.10        377.89  \n",
       "8         191.61        146.88  \n",
       "9         156.98        113.26  "
      ]
     },
     "execution_count": 14,
     "metadata": {},
     "output_type": "execute_result"
    }
   ],
   "source": [
    "#loading data\n",
    "cab = pd.read_csv(\"Cab_Data.csv\")\n",
    "cab.head(10)"
   ]
  },
  {
   "cell_type": "code",
   "execution_count": 15,
   "metadata": {},
   "outputs": [
    {
     "name": "stdout",
     "output_type": "stream",
     "text": [
      "<class 'pandas.core.frame.DataFrame'>\n",
      "RangeIndex: 359392 entries, 0 to 359391\n",
      "Data columns (total 7 columns):\n",
      " #   Column          Non-Null Count   Dtype  \n",
      "---  ------          --------------   -----  \n",
      " 0   Transaction ID  359392 non-null  int64  \n",
      " 1   Date of Travel  359392 non-null  int64  \n",
      " 2   Company         359392 non-null  object \n",
      " 3   City            359392 non-null  object \n",
      " 4   KM Travelled    359392 non-null  float64\n",
      " 5   Price Charged   359392 non-null  float64\n",
      " 6   Cost of Trip    359392 non-null  float64\n",
      "dtypes: float64(3), int64(2), object(2)\n",
      "memory usage: 19.2+ MB\n"
     ]
    }
   ],
   "source": [
    "#exploring data\n",
    "cab.info()"
   ]
  },
  {
   "cell_type": "markdown",
   "metadata": {},
   "source": [
    "#### We can see that there are no null values and that the date is formatted as excel serial format, we will turn it into iso formatting, the normal formatting everyone uses."
   ]
  },
  {
   "cell_type": "code",
   "execution_count": 16,
   "metadata": {},
   "outputs": [
    {
     "data": {
      "text/html": [
       "<div>\n",
       "<style scoped>\n",
       "    .dataframe tbody tr th:only-of-type {\n",
       "        vertical-align: middle;\n",
       "    }\n",
       "\n",
       "    .dataframe tbody tr th {\n",
       "        vertical-align: top;\n",
       "    }\n",
       "\n",
       "    .dataframe thead th {\n",
       "        text-align: right;\n",
       "    }\n",
       "</style>\n",
       "<table border=\"1\" class=\"dataframe\">\n",
       "  <thead>\n",
       "    <tr style=\"text-align: right;\">\n",
       "      <th></th>\n",
       "      <th>Transaction ID</th>\n",
       "      <th>Date of Travel</th>\n",
       "      <th>Company</th>\n",
       "      <th>City</th>\n",
       "      <th>KM Travelled</th>\n",
       "      <th>Price Charged</th>\n",
       "      <th>Cost of Trip</th>\n",
       "    </tr>\n",
       "  </thead>\n",
       "  <tbody>\n",
       "    <tr>\n",
       "      <th>0</th>\n",
       "      <td>10000011</td>\n",
       "      <td>2016-01-08</td>\n",
       "      <td>Pink Cab</td>\n",
       "      <td>ATLANTA GA</td>\n",
       "      <td>30.45</td>\n",
       "      <td>370.95</td>\n",
       "      <td>313.63</td>\n",
       "    </tr>\n",
       "    <tr>\n",
       "      <th>1</th>\n",
       "      <td>10000012</td>\n",
       "      <td>2016-01-06</td>\n",
       "      <td>Pink Cab</td>\n",
       "      <td>ATLANTA GA</td>\n",
       "      <td>28.62</td>\n",
       "      <td>358.52</td>\n",
       "      <td>334.85</td>\n",
       "    </tr>\n",
       "    <tr>\n",
       "      <th>2</th>\n",
       "      <td>10000013</td>\n",
       "      <td>2016-01-02</td>\n",
       "      <td>Pink Cab</td>\n",
       "      <td>ATLANTA GA</td>\n",
       "      <td>9.04</td>\n",
       "      <td>125.20</td>\n",
       "      <td>97.63</td>\n",
       "    </tr>\n",
       "    <tr>\n",
       "      <th>3</th>\n",
       "      <td>10000014</td>\n",
       "      <td>2016-01-07</td>\n",
       "      <td>Pink Cab</td>\n",
       "      <td>ATLANTA GA</td>\n",
       "      <td>33.17</td>\n",
       "      <td>377.40</td>\n",
       "      <td>351.60</td>\n",
       "    </tr>\n",
       "    <tr>\n",
       "      <th>4</th>\n",
       "      <td>10000015</td>\n",
       "      <td>2016-01-03</td>\n",
       "      <td>Pink Cab</td>\n",
       "      <td>ATLANTA GA</td>\n",
       "      <td>8.73</td>\n",
       "      <td>114.62</td>\n",
       "      <td>97.78</td>\n",
       "    </tr>\n",
       "  </tbody>\n",
       "</table>\n",
       "</div>"
      ],
      "text/plain": [
       "   Transaction ID Date of Travel   Company        City  KM Travelled  \\\n",
       "0        10000011     2016-01-08  Pink Cab  ATLANTA GA         30.45   \n",
       "1        10000012     2016-01-06  Pink Cab  ATLANTA GA         28.62   \n",
       "2        10000013     2016-01-02  Pink Cab  ATLANTA GA          9.04   \n",
       "3        10000014     2016-01-07  Pink Cab  ATLANTA GA         33.17   \n",
       "4        10000015     2016-01-03  Pink Cab  ATLANTA GA          8.73   \n",
       "\n",
       "   Price Charged  Cost of Trip  \n",
       "0         370.95        313.63  \n",
       "1         358.52        334.85  \n",
       "2         125.20         97.63  \n",
       "3         377.40        351.60  \n",
       "4         114.62         97.78  "
      ]
     },
     "execution_count": 16,
     "metadata": {},
     "output_type": "execute_result"
    }
   ],
   "source": [
    "import xlrd\n",
    "cab['Date of Travel'] = cab['Date of Travel'].apply(lambda x: xlrd.xldate.xldate_as_datetime(x, 0))\n",
    "cab.head()"
   ]
  },
  {
   "cell_type": "code",
   "execution_count": 17,
   "metadata": {},
   "outputs": [
    {
     "data": {
      "text/html": [
       "<div>\n",
       "<style scoped>\n",
       "    .dataframe tbody tr th:only-of-type {\n",
       "        vertical-align: middle;\n",
       "    }\n",
       "\n",
       "    .dataframe tbody tr th {\n",
       "        vertical-align: top;\n",
       "    }\n",
       "\n",
       "    .dataframe thead th {\n",
       "        text-align: right;\n",
       "    }\n",
       "</style>\n",
       "<table border=\"1\" class=\"dataframe\">\n",
       "  <thead>\n",
       "    <tr style=\"text-align: right;\">\n",
       "      <th></th>\n",
       "      <th>Transaction ID</th>\n",
       "      <th>Customer ID</th>\n",
       "      <th>Payment_Mode</th>\n",
       "    </tr>\n",
       "  </thead>\n",
       "  <tbody>\n",
       "    <tr>\n",
       "      <th>0</th>\n",
       "      <td>10000011</td>\n",
       "      <td>29290</td>\n",
       "      <td>Card</td>\n",
       "    </tr>\n",
       "    <tr>\n",
       "      <th>1</th>\n",
       "      <td>10000012</td>\n",
       "      <td>27703</td>\n",
       "      <td>Card</td>\n",
       "    </tr>\n",
       "    <tr>\n",
       "      <th>2</th>\n",
       "      <td>10000013</td>\n",
       "      <td>28712</td>\n",
       "      <td>Cash</td>\n",
       "    </tr>\n",
       "    <tr>\n",
       "      <th>3</th>\n",
       "      <td>10000014</td>\n",
       "      <td>28020</td>\n",
       "      <td>Cash</td>\n",
       "    </tr>\n",
       "    <tr>\n",
       "      <th>4</th>\n",
       "      <td>10000015</td>\n",
       "      <td>27182</td>\n",
       "      <td>Card</td>\n",
       "    </tr>\n",
       "  </tbody>\n",
       "</table>\n",
       "</div>"
      ],
      "text/plain": [
       "   Transaction ID  Customer ID Payment_Mode\n",
       "0        10000011        29290         Card\n",
       "1        10000012        27703         Card\n",
       "2        10000013        28712         Cash\n",
       "3        10000014        28020         Cash\n",
       "4        10000015        27182         Card"
      ]
     },
     "execution_count": 17,
     "metadata": {},
     "output_type": "execute_result"
    }
   ],
   "source": [
    "#we load and merge the other csv files to the original cab dataset\n",
    "transaction = pd.read_csv(\"Transaction_ID.csv\")\n",
    "transaction.head()"
   ]
  },
  {
   "cell_type": "code",
   "execution_count": 18,
   "metadata": {},
   "outputs": [
    {
     "data": {
      "text/html": [
       "<div>\n",
       "<style scoped>\n",
       "    .dataframe tbody tr th:only-of-type {\n",
       "        vertical-align: middle;\n",
       "    }\n",
       "\n",
       "    .dataframe tbody tr th {\n",
       "        vertical-align: top;\n",
       "    }\n",
       "\n",
       "    .dataframe thead th {\n",
       "        text-align: right;\n",
       "    }\n",
       "</style>\n",
       "<table border=\"1\" class=\"dataframe\">\n",
       "  <thead>\n",
       "    <tr style=\"text-align: right;\">\n",
       "      <th></th>\n",
       "      <th>Transaction ID</th>\n",
       "      <th>Date of Travel</th>\n",
       "      <th>Company</th>\n",
       "      <th>City</th>\n",
       "      <th>KM Travelled</th>\n",
       "      <th>Price Charged</th>\n",
       "      <th>Cost of Trip</th>\n",
       "      <th>Customer ID</th>\n",
       "      <th>Payment_Mode</th>\n",
       "    </tr>\n",
       "  </thead>\n",
       "  <tbody>\n",
       "    <tr>\n",
       "      <th>0</th>\n",
       "      <td>10000011</td>\n",
       "      <td>2016-01-08</td>\n",
       "      <td>Pink Cab</td>\n",
       "      <td>ATLANTA GA</td>\n",
       "      <td>30.45</td>\n",
       "      <td>370.95</td>\n",
       "      <td>313.63</td>\n",
       "      <td>29290</td>\n",
       "      <td>Card</td>\n",
       "    </tr>\n",
       "    <tr>\n",
       "      <th>1</th>\n",
       "      <td>10000012</td>\n",
       "      <td>2016-01-06</td>\n",
       "      <td>Pink Cab</td>\n",
       "      <td>ATLANTA GA</td>\n",
       "      <td>28.62</td>\n",
       "      <td>358.52</td>\n",
       "      <td>334.85</td>\n",
       "      <td>27703</td>\n",
       "      <td>Card</td>\n",
       "    </tr>\n",
       "    <tr>\n",
       "      <th>2</th>\n",
       "      <td>10000013</td>\n",
       "      <td>2016-01-02</td>\n",
       "      <td>Pink Cab</td>\n",
       "      <td>ATLANTA GA</td>\n",
       "      <td>9.04</td>\n",
       "      <td>125.20</td>\n",
       "      <td>97.63</td>\n",
       "      <td>28712</td>\n",
       "      <td>Cash</td>\n",
       "    </tr>\n",
       "    <tr>\n",
       "      <th>3</th>\n",
       "      <td>10000014</td>\n",
       "      <td>2016-01-07</td>\n",
       "      <td>Pink Cab</td>\n",
       "      <td>ATLANTA GA</td>\n",
       "      <td>33.17</td>\n",
       "      <td>377.40</td>\n",
       "      <td>351.60</td>\n",
       "      <td>28020</td>\n",
       "      <td>Cash</td>\n",
       "    </tr>\n",
       "    <tr>\n",
       "      <th>4</th>\n",
       "      <td>10000015</td>\n",
       "      <td>2016-01-03</td>\n",
       "      <td>Pink Cab</td>\n",
       "      <td>ATLANTA GA</td>\n",
       "      <td>8.73</td>\n",
       "      <td>114.62</td>\n",
       "      <td>97.78</td>\n",
       "      <td>27182</td>\n",
       "      <td>Card</td>\n",
       "    </tr>\n",
       "  </tbody>\n",
       "</table>\n",
       "</div>"
      ],
      "text/plain": [
       "   Transaction ID Date of Travel   Company        City  KM Travelled  \\\n",
       "0        10000011     2016-01-08  Pink Cab  ATLANTA GA         30.45   \n",
       "1        10000012     2016-01-06  Pink Cab  ATLANTA GA         28.62   \n",
       "2        10000013     2016-01-02  Pink Cab  ATLANTA GA          9.04   \n",
       "3        10000014     2016-01-07  Pink Cab  ATLANTA GA         33.17   \n",
       "4        10000015     2016-01-03  Pink Cab  ATLANTA GA          8.73   \n",
       "\n",
       "   Price Charged  Cost of Trip  Customer ID Payment_Mode  \n",
       "0         370.95        313.63        29290         Card  \n",
       "1         358.52        334.85        27703         Card  \n",
       "2         125.20         97.63        28712         Cash  \n",
       "3         377.40        351.60        28020         Cash  \n",
       "4         114.62         97.78        27182         Card  "
      ]
     },
     "execution_count": 18,
     "metadata": {},
     "output_type": "execute_result"
    }
   ],
   "source": [
    "cab = pd.merge(cab, transaction, on = 'Transaction ID')\n",
    "cab.head()"
   ]
  },
  {
   "cell_type": "code",
   "execution_count": 19,
   "metadata": {},
   "outputs": [
    {
     "data": {
      "text/html": [
       "<div>\n",
       "<style scoped>\n",
       "    .dataframe tbody tr th:only-of-type {\n",
       "        vertical-align: middle;\n",
       "    }\n",
       "\n",
       "    .dataframe tbody tr th {\n",
       "        vertical-align: top;\n",
       "    }\n",
       "\n",
       "    .dataframe thead th {\n",
       "        text-align: right;\n",
       "    }\n",
       "</style>\n",
       "<table border=\"1\" class=\"dataframe\">\n",
       "  <thead>\n",
       "    <tr style=\"text-align: right;\">\n",
       "      <th></th>\n",
       "      <th>Customer ID</th>\n",
       "      <th>Gender</th>\n",
       "      <th>Age</th>\n",
       "      <th>Income (USD/Month)</th>\n",
       "    </tr>\n",
       "  </thead>\n",
       "  <tbody>\n",
       "    <tr>\n",
       "      <th>0</th>\n",
       "      <td>29290</td>\n",
       "      <td>Male</td>\n",
       "      <td>28</td>\n",
       "      <td>10813</td>\n",
       "    </tr>\n",
       "    <tr>\n",
       "      <th>1</th>\n",
       "      <td>27703</td>\n",
       "      <td>Male</td>\n",
       "      <td>27</td>\n",
       "      <td>9237</td>\n",
       "    </tr>\n",
       "    <tr>\n",
       "      <th>2</th>\n",
       "      <td>28712</td>\n",
       "      <td>Male</td>\n",
       "      <td>53</td>\n",
       "      <td>11242</td>\n",
       "    </tr>\n",
       "    <tr>\n",
       "      <th>3</th>\n",
       "      <td>28020</td>\n",
       "      <td>Male</td>\n",
       "      <td>23</td>\n",
       "      <td>23327</td>\n",
       "    </tr>\n",
       "    <tr>\n",
       "      <th>4</th>\n",
       "      <td>27182</td>\n",
       "      <td>Male</td>\n",
       "      <td>33</td>\n",
       "      <td>8536</td>\n",
       "    </tr>\n",
       "  </tbody>\n",
       "</table>\n",
       "</div>"
      ],
      "text/plain": [
       "   Customer ID Gender  Age  Income (USD/Month)\n",
       "0        29290   Male   28               10813\n",
       "1        27703   Male   27                9237\n",
       "2        28712   Male   53               11242\n",
       "3        28020   Male   23               23327\n",
       "4        27182   Male   33                8536"
      ]
     },
     "execution_count": 19,
     "metadata": {},
     "output_type": "execute_result"
    }
   ],
   "source": [
    "customer = pd.read_csv(\"Customer_ID.csv\")\n",
    "customer.head()"
   ]
  },
  {
   "cell_type": "code",
   "execution_count": 20,
   "metadata": {},
   "outputs": [
    {
     "data": {
      "text/html": [
       "<div>\n",
       "<style scoped>\n",
       "    .dataframe tbody tr th:only-of-type {\n",
       "        vertical-align: middle;\n",
       "    }\n",
       "\n",
       "    .dataframe tbody tr th {\n",
       "        vertical-align: top;\n",
       "    }\n",
       "\n",
       "    .dataframe thead th {\n",
       "        text-align: right;\n",
       "    }\n",
       "</style>\n",
       "<table border=\"1\" class=\"dataframe\">\n",
       "  <thead>\n",
       "    <tr style=\"text-align: right;\">\n",
       "      <th></th>\n",
       "      <th>Transaction ID</th>\n",
       "      <th>Date of Travel</th>\n",
       "      <th>Company</th>\n",
       "      <th>City</th>\n",
       "      <th>KM Travelled</th>\n",
       "      <th>Price Charged</th>\n",
       "      <th>Cost of Trip</th>\n",
       "      <th>Customer ID</th>\n",
       "      <th>Payment_Mode</th>\n",
       "      <th>Gender</th>\n",
       "      <th>Age</th>\n",
       "      <th>Income (USD/Month)</th>\n",
       "    </tr>\n",
       "  </thead>\n",
       "  <tbody>\n",
       "    <tr>\n",
       "      <th>0</th>\n",
       "      <td>10000011</td>\n",
       "      <td>2016-01-08</td>\n",
       "      <td>Pink Cab</td>\n",
       "      <td>ATLANTA GA</td>\n",
       "      <td>30.45</td>\n",
       "      <td>370.95</td>\n",
       "      <td>313.63</td>\n",
       "      <td>29290</td>\n",
       "      <td>Card</td>\n",
       "      <td>Male</td>\n",
       "      <td>28</td>\n",
       "      <td>10813</td>\n",
       "    </tr>\n",
       "    <tr>\n",
       "      <th>1</th>\n",
       "      <td>10351127</td>\n",
       "      <td>2018-07-21</td>\n",
       "      <td>Yellow Cab</td>\n",
       "      <td>ATLANTA GA</td>\n",
       "      <td>26.19</td>\n",
       "      <td>598.70</td>\n",
       "      <td>317.42</td>\n",
       "      <td>29290</td>\n",
       "      <td>Cash</td>\n",
       "      <td>Male</td>\n",
       "      <td>28</td>\n",
       "      <td>10813</td>\n",
       "    </tr>\n",
       "    <tr>\n",
       "      <th>2</th>\n",
       "      <td>10412921</td>\n",
       "      <td>2018-11-23</td>\n",
       "      <td>Yellow Cab</td>\n",
       "      <td>ATLANTA GA</td>\n",
       "      <td>42.55</td>\n",
       "      <td>792.05</td>\n",
       "      <td>597.40</td>\n",
       "      <td>29290</td>\n",
       "      <td>Card</td>\n",
       "      <td>Male</td>\n",
       "      <td>28</td>\n",
       "      <td>10813</td>\n",
       "    </tr>\n",
       "    <tr>\n",
       "      <th>3</th>\n",
       "      <td>10000012</td>\n",
       "      <td>2016-01-06</td>\n",
       "      <td>Pink Cab</td>\n",
       "      <td>ATLANTA GA</td>\n",
       "      <td>28.62</td>\n",
       "      <td>358.52</td>\n",
       "      <td>334.85</td>\n",
       "      <td>27703</td>\n",
       "      <td>Card</td>\n",
       "      <td>Male</td>\n",
       "      <td>27</td>\n",
       "      <td>9237</td>\n",
       "    </tr>\n",
       "    <tr>\n",
       "      <th>4</th>\n",
       "      <td>10320494</td>\n",
       "      <td>2018-04-21</td>\n",
       "      <td>Yellow Cab</td>\n",
       "      <td>ATLANTA GA</td>\n",
       "      <td>36.38</td>\n",
       "      <td>721.10</td>\n",
       "      <td>467.12</td>\n",
       "      <td>27703</td>\n",
       "      <td>Card</td>\n",
       "      <td>Male</td>\n",
       "      <td>27</td>\n",
       "      <td>9237</td>\n",
       "    </tr>\n",
       "  </tbody>\n",
       "</table>\n",
       "</div>"
      ],
      "text/plain": [
       "   Transaction ID Date of Travel     Company        City  KM Travelled  \\\n",
       "0        10000011     2016-01-08    Pink Cab  ATLANTA GA         30.45   \n",
       "1        10351127     2018-07-21  Yellow Cab  ATLANTA GA         26.19   \n",
       "2        10412921     2018-11-23  Yellow Cab  ATLANTA GA         42.55   \n",
       "3        10000012     2016-01-06    Pink Cab  ATLANTA GA         28.62   \n",
       "4        10320494     2018-04-21  Yellow Cab  ATLANTA GA         36.38   \n",
       "\n",
       "   Price Charged  Cost of Trip  Customer ID Payment_Mode Gender  Age  \\\n",
       "0         370.95        313.63        29290         Card   Male   28   \n",
       "1         598.70        317.42        29290         Cash   Male   28   \n",
       "2         792.05        597.40        29290         Card   Male   28   \n",
       "3         358.52        334.85        27703         Card   Male   27   \n",
       "4         721.10        467.12        27703         Card   Male   27   \n",
       "\n",
       "   Income (USD/Month)  \n",
       "0               10813  \n",
       "1               10813  \n",
       "2               10813  \n",
       "3                9237  \n",
       "4                9237  "
      ]
     },
     "execution_count": 20,
     "metadata": {},
     "output_type": "execute_result"
    }
   ],
   "source": [
    "cab = pd.merge(cab, customer, on = 'Customer ID')\n",
    "cab.head()"
   ]
  },
  {
   "cell_type": "code",
   "execution_count": 21,
   "metadata": {},
   "outputs": [
    {
     "data": {
      "text/html": [
       "<div>\n",
       "<style scoped>\n",
       "    .dataframe tbody tr th:only-of-type {\n",
       "        vertical-align: middle;\n",
       "    }\n",
       "\n",
       "    .dataframe tbody tr th {\n",
       "        vertical-align: top;\n",
       "    }\n",
       "\n",
       "    .dataframe thead th {\n",
       "        text-align: right;\n",
       "    }\n",
       "</style>\n",
       "<table border=\"1\" class=\"dataframe\">\n",
       "  <thead>\n",
       "    <tr style=\"text-align: right;\">\n",
       "      <th></th>\n",
       "      <th>City</th>\n",
       "      <th>Population</th>\n",
       "      <th>Users</th>\n",
       "    </tr>\n",
       "  </thead>\n",
       "  <tbody>\n",
       "    <tr>\n",
       "      <th>0</th>\n",
       "      <td>NEW YORK NY</td>\n",
       "      <td>8,405,837</td>\n",
       "      <td>302,149</td>\n",
       "    </tr>\n",
       "    <tr>\n",
       "      <th>1</th>\n",
       "      <td>CHICAGO IL</td>\n",
       "      <td>1,955,130</td>\n",
       "      <td>164,468</td>\n",
       "    </tr>\n",
       "    <tr>\n",
       "      <th>2</th>\n",
       "      <td>LOS ANGELES CA</td>\n",
       "      <td>1,595,037</td>\n",
       "      <td>144,132</td>\n",
       "    </tr>\n",
       "    <tr>\n",
       "      <th>3</th>\n",
       "      <td>MIAMI FL</td>\n",
       "      <td>1,339,155</td>\n",
       "      <td>17,675</td>\n",
       "    </tr>\n",
       "    <tr>\n",
       "      <th>4</th>\n",
       "      <td>SILICON VALLEY</td>\n",
       "      <td>1,177,609</td>\n",
       "      <td>27,247</td>\n",
       "    </tr>\n",
       "  </tbody>\n",
       "</table>\n",
       "</div>"
      ],
      "text/plain": [
       "             City   Population      Users\n",
       "0     NEW YORK NY   8,405,837    302,149 \n",
       "1      CHICAGO IL   1,955,130    164,468 \n",
       "2  LOS ANGELES CA   1,595,037    144,132 \n",
       "3        MIAMI FL   1,339,155     17,675 \n",
       "4  SILICON VALLEY   1,177,609     27,247 "
      ]
     },
     "execution_count": 21,
     "metadata": {},
     "output_type": "execute_result"
    }
   ],
   "source": [
    "city = pd.read_csv(\"City.csv\")\n",
    "city.head()"
   ]
  },
  {
   "cell_type": "code",
   "execution_count": 22,
   "metadata": {},
   "outputs": [
    {
     "data": {
      "text/html": [
       "<div>\n",
       "<style scoped>\n",
       "    .dataframe tbody tr th:only-of-type {\n",
       "        vertical-align: middle;\n",
       "    }\n",
       "\n",
       "    .dataframe tbody tr th {\n",
       "        vertical-align: top;\n",
       "    }\n",
       "\n",
       "    .dataframe thead th {\n",
       "        text-align: right;\n",
       "    }\n",
       "</style>\n",
       "<table border=\"1\" class=\"dataframe\">\n",
       "  <thead>\n",
       "    <tr style=\"text-align: right;\">\n",
       "      <th></th>\n",
       "      <th>Transaction ID</th>\n",
       "      <th>Date of Travel</th>\n",
       "      <th>Company</th>\n",
       "      <th>City</th>\n",
       "      <th>KM Travelled</th>\n",
       "      <th>Price Charged</th>\n",
       "      <th>Cost of Trip</th>\n",
       "      <th>Customer ID</th>\n",
       "      <th>Payment_Mode</th>\n",
       "      <th>Gender</th>\n",
       "      <th>Age</th>\n",
       "      <th>Income (USD/Month)</th>\n",
       "      <th>Population</th>\n",
       "      <th>Users</th>\n",
       "    </tr>\n",
       "  </thead>\n",
       "  <tbody>\n",
       "    <tr>\n",
       "      <th>0</th>\n",
       "      <td>10000011</td>\n",
       "      <td>2016-01-08</td>\n",
       "      <td>Pink Cab</td>\n",
       "      <td>ATLANTA GA</td>\n",
       "      <td>30.45</td>\n",
       "      <td>370.95</td>\n",
       "      <td>313.63</td>\n",
       "      <td>29290</td>\n",
       "      <td>Card</td>\n",
       "      <td>Male</td>\n",
       "      <td>28</td>\n",
       "      <td>10813</td>\n",
       "      <td>814,885</td>\n",
       "      <td>24,701</td>\n",
       "    </tr>\n",
       "    <tr>\n",
       "      <th>1</th>\n",
       "      <td>10351127</td>\n",
       "      <td>2018-07-21</td>\n",
       "      <td>Yellow Cab</td>\n",
       "      <td>ATLANTA GA</td>\n",
       "      <td>26.19</td>\n",
       "      <td>598.70</td>\n",
       "      <td>317.42</td>\n",
       "      <td>29290</td>\n",
       "      <td>Cash</td>\n",
       "      <td>Male</td>\n",
       "      <td>28</td>\n",
       "      <td>10813</td>\n",
       "      <td>814,885</td>\n",
       "      <td>24,701</td>\n",
       "    </tr>\n",
       "    <tr>\n",
       "      <th>2</th>\n",
       "      <td>10412921</td>\n",
       "      <td>2018-11-23</td>\n",
       "      <td>Yellow Cab</td>\n",
       "      <td>ATLANTA GA</td>\n",
       "      <td>42.55</td>\n",
       "      <td>792.05</td>\n",
       "      <td>597.40</td>\n",
       "      <td>29290</td>\n",
       "      <td>Card</td>\n",
       "      <td>Male</td>\n",
       "      <td>28</td>\n",
       "      <td>10813</td>\n",
       "      <td>814,885</td>\n",
       "      <td>24,701</td>\n",
       "    </tr>\n",
       "    <tr>\n",
       "      <th>3</th>\n",
       "      <td>10000012</td>\n",
       "      <td>2016-01-06</td>\n",
       "      <td>Pink Cab</td>\n",
       "      <td>ATLANTA GA</td>\n",
       "      <td>28.62</td>\n",
       "      <td>358.52</td>\n",
       "      <td>334.85</td>\n",
       "      <td>27703</td>\n",
       "      <td>Card</td>\n",
       "      <td>Male</td>\n",
       "      <td>27</td>\n",
       "      <td>9237</td>\n",
       "      <td>814,885</td>\n",
       "      <td>24,701</td>\n",
       "    </tr>\n",
       "    <tr>\n",
       "      <th>4</th>\n",
       "      <td>10320494</td>\n",
       "      <td>2018-04-21</td>\n",
       "      <td>Yellow Cab</td>\n",
       "      <td>ATLANTA GA</td>\n",
       "      <td>36.38</td>\n",
       "      <td>721.10</td>\n",
       "      <td>467.12</td>\n",
       "      <td>27703</td>\n",
       "      <td>Card</td>\n",
       "      <td>Male</td>\n",
       "      <td>27</td>\n",
       "      <td>9237</td>\n",
       "      <td>814,885</td>\n",
       "      <td>24,701</td>\n",
       "    </tr>\n",
       "  </tbody>\n",
       "</table>\n",
       "</div>"
      ],
      "text/plain": [
       "   Transaction ID Date of Travel     Company        City  KM Travelled  \\\n",
       "0        10000011     2016-01-08    Pink Cab  ATLANTA GA         30.45   \n",
       "1        10351127     2018-07-21  Yellow Cab  ATLANTA GA         26.19   \n",
       "2        10412921     2018-11-23  Yellow Cab  ATLANTA GA         42.55   \n",
       "3        10000012     2016-01-06    Pink Cab  ATLANTA GA         28.62   \n",
       "4        10320494     2018-04-21  Yellow Cab  ATLANTA GA         36.38   \n",
       "\n",
       "   Price Charged  Cost of Trip  Customer ID Payment_Mode Gender  Age  \\\n",
       "0         370.95        313.63        29290         Card   Male   28   \n",
       "1         598.70        317.42        29290         Cash   Male   28   \n",
       "2         792.05        597.40        29290         Card   Male   28   \n",
       "3         358.52        334.85        27703         Card   Male   27   \n",
       "4         721.10        467.12        27703         Card   Male   27   \n",
       "\n",
       "   Income (USD/Month) Population     Users  \n",
       "0               10813   814,885    24,701   \n",
       "1               10813   814,885    24,701   \n",
       "2               10813   814,885    24,701   \n",
       "3                9237   814,885    24,701   \n",
       "4                9237   814,885    24,701   "
      ]
     },
     "execution_count": 22,
     "metadata": {},
     "output_type": "execute_result"
    }
   ],
   "source": [
    "cab = pd.merge(cab, city, on = 'City')\n",
    "cab.head()"
   ]
  },
  {
   "cell_type": "code",
   "execution_count": 23,
   "metadata": {},
   "outputs": [
    {
     "name": "stdout",
     "output_type": "stream",
     "text": [
      "<class 'pandas.core.frame.DataFrame'>\n",
      "Int64Index: 359392 entries, 0 to 359391\n",
      "Data columns (total 14 columns):\n",
      " #   Column              Non-Null Count   Dtype         \n",
      "---  ------              --------------   -----         \n",
      " 0   Transaction ID      359392 non-null  int64         \n",
      " 1   Date of Travel      359392 non-null  datetime64[ns]\n",
      " 2   Company             359392 non-null  object        \n",
      " 3   City                359392 non-null  object        \n",
      " 4   KM Travelled        359392 non-null  float64       \n",
      " 5   Price Charged       359392 non-null  float64       \n",
      " 6   Cost of Trip        359392 non-null  float64       \n",
      " 7   Customer ID         359392 non-null  int64         \n",
      " 8   Payment_Mode        359392 non-null  object        \n",
      " 9   Gender              359392 non-null  object        \n",
      " 10  Age                 359392 non-null  int64         \n",
      " 11  Income (USD/Month)  359392 non-null  int64         \n",
      " 12  Population          359392 non-null  object        \n",
      " 13  Users               359392 non-null  object        \n",
      "dtypes: datetime64[ns](1), float64(3), int64(4), object(6)\n",
      "memory usage: 41.1+ MB\n"
     ]
    }
   ],
   "source": [
    "cab.info()"
   ]
  },
  {
   "cell_type": "markdown",
   "metadata": {},
   "source": [
    "#### We find Population and Users are of Dtype 'object', we'll turn that into float so we can calculate User to Population ratio later on."
   ]
  },
  {
   "cell_type": "code",
   "execution_count": 24,
   "metadata": {},
   "outputs": [],
   "source": [
    "#turning Users and Population into int values, first we need to edit the format of the numbers\n",
    "city[['Population','Users']] = city[['Population', 'Users']].apply(lambda x: x.str.strip().str.replace(\",\",\"\"))\n",
    "cab[['Population','Users']] = cab[['Population', 'Users']].apply(lambda x: x.str.strip().str.replace(\",\",\"\"))"
   ]
  },
  {
   "cell_type": "code",
   "execution_count": 25,
   "metadata": {},
   "outputs": [],
   "source": [
    "city[['Population','Users']] = city[['Population', 'Users']].astype('int')\n",
    "cab[['Population','Users']] = cab[['Population', 'Users']].astype('int')"
   ]
  },
  {
   "cell_type": "code",
   "execution_count": 26,
   "metadata": {},
   "outputs": [
    {
     "name": "stdout",
     "output_type": "stream",
     "text": [
      "<class 'pandas.core.frame.DataFrame'>\n",
      "Int64Index: 359392 entries, 0 to 359391\n",
      "Data columns (total 14 columns):\n",
      " #   Column              Non-Null Count   Dtype         \n",
      "---  ------              --------------   -----         \n",
      " 0   Transaction ID      359392 non-null  int64         \n",
      " 1   Date of Travel      359392 non-null  datetime64[ns]\n",
      " 2   Company             359392 non-null  object        \n",
      " 3   City                359392 non-null  object        \n",
      " 4   KM Travelled        359392 non-null  float64       \n",
      " 5   Price Charged       359392 non-null  float64       \n",
      " 6   Cost of Trip        359392 non-null  float64       \n",
      " 7   Customer ID         359392 non-null  int64         \n",
      " 8   Payment_Mode        359392 non-null  object        \n",
      " 9   Gender              359392 non-null  object        \n",
      " 10  Age                 359392 non-null  int64         \n",
      " 11  Income (USD/Month)  359392 non-null  int64         \n",
      " 12  Population          359392 non-null  int64         \n",
      " 13  Users               359392 non-null  int64         \n",
      "dtypes: datetime64[ns](1), float64(3), int64(6), object(4)\n",
      "memory usage: 41.1+ MB\n"
     ]
    }
   ],
   "source": [
    "cab.info()"
   ]
  },
  {
   "cell_type": "code",
   "execution_count": 27,
   "metadata": {},
   "outputs": [
    {
     "data": {
      "text/html": [
       "<div>\n",
       "<style scoped>\n",
       "    .dataframe tbody tr th:only-of-type {\n",
       "        vertical-align: middle;\n",
       "    }\n",
       "\n",
       "    .dataframe tbody tr th {\n",
       "        vertical-align: top;\n",
       "    }\n",
       "\n",
       "    .dataframe thead th {\n",
       "        text-align: right;\n",
       "    }\n",
       "</style>\n",
       "<table border=\"1\" class=\"dataframe\">\n",
       "  <thead>\n",
       "    <tr style=\"text-align: right;\">\n",
       "      <th></th>\n",
       "      <th>Transaction ID</th>\n",
       "      <th>Customer ID</th>\n",
       "      <th>Gender</th>\n",
       "      <th>Age</th>\n",
       "      <th>Company</th>\n",
       "      <th>Income (USD/Month)</th>\n",
       "      <th>Cost of Trip</th>\n",
       "      <th>Date of Travel</th>\n",
       "      <th>Price Charged</th>\n",
       "      <th>KM Travelled</th>\n",
       "      <th>Payment_Mode</th>\n",
       "      <th>City</th>\n",
       "      <th>Population</th>\n",
       "      <th>Users</th>\n",
       "    </tr>\n",
       "  </thead>\n",
       "  <tbody>\n",
       "    <tr>\n",
       "      <th>0</th>\n",
       "      <td>10000011</td>\n",
       "      <td>29290</td>\n",
       "      <td>Male</td>\n",
       "      <td>28</td>\n",
       "      <td>Pink Cab</td>\n",
       "      <td>10813</td>\n",
       "      <td>313.63</td>\n",
       "      <td>2016-01-08</td>\n",
       "      <td>370.95</td>\n",
       "      <td>30.45</td>\n",
       "      <td>Card</td>\n",
       "      <td>ATLANTA GA</td>\n",
       "      <td>814885</td>\n",
       "      <td>24701</td>\n",
       "    </tr>\n",
       "    <tr>\n",
       "      <th>1</th>\n",
       "      <td>10351127</td>\n",
       "      <td>29290</td>\n",
       "      <td>Male</td>\n",
       "      <td>28</td>\n",
       "      <td>Yellow Cab</td>\n",
       "      <td>10813</td>\n",
       "      <td>317.42</td>\n",
       "      <td>2018-07-21</td>\n",
       "      <td>598.70</td>\n",
       "      <td>26.19</td>\n",
       "      <td>Cash</td>\n",
       "      <td>ATLANTA GA</td>\n",
       "      <td>814885</td>\n",
       "      <td>24701</td>\n",
       "    </tr>\n",
       "    <tr>\n",
       "      <th>2</th>\n",
       "      <td>10412921</td>\n",
       "      <td>29290</td>\n",
       "      <td>Male</td>\n",
       "      <td>28</td>\n",
       "      <td>Yellow Cab</td>\n",
       "      <td>10813</td>\n",
       "      <td>597.40</td>\n",
       "      <td>2018-11-23</td>\n",
       "      <td>792.05</td>\n",
       "      <td>42.55</td>\n",
       "      <td>Card</td>\n",
       "      <td>ATLANTA GA</td>\n",
       "      <td>814885</td>\n",
       "      <td>24701</td>\n",
       "    </tr>\n",
       "    <tr>\n",
       "      <th>3</th>\n",
       "      <td>10000012</td>\n",
       "      <td>27703</td>\n",
       "      <td>Male</td>\n",
       "      <td>27</td>\n",
       "      <td>Pink Cab</td>\n",
       "      <td>9237</td>\n",
       "      <td>334.85</td>\n",
       "      <td>2016-01-06</td>\n",
       "      <td>358.52</td>\n",
       "      <td>28.62</td>\n",
       "      <td>Card</td>\n",
       "      <td>ATLANTA GA</td>\n",
       "      <td>814885</td>\n",
       "      <td>24701</td>\n",
       "    </tr>\n",
       "    <tr>\n",
       "      <th>4</th>\n",
       "      <td>10320494</td>\n",
       "      <td>27703</td>\n",
       "      <td>Male</td>\n",
       "      <td>27</td>\n",
       "      <td>Yellow Cab</td>\n",
       "      <td>9237</td>\n",
       "      <td>467.12</td>\n",
       "      <td>2018-04-21</td>\n",
       "      <td>721.10</td>\n",
       "      <td>36.38</td>\n",
       "      <td>Card</td>\n",
       "      <td>ATLANTA GA</td>\n",
       "      <td>814885</td>\n",
       "      <td>24701</td>\n",
       "    </tr>\n",
       "  </tbody>\n",
       "</table>\n",
       "</div>"
      ],
      "text/plain": [
       "   Transaction ID  Customer ID Gender  Age     Company  Income (USD/Month)  \\\n",
       "0        10000011        29290   Male   28    Pink Cab               10813   \n",
       "1        10351127        29290   Male   28  Yellow Cab               10813   \n",
       "2        10412921        29290   Male   28  Yellow Cab               10813   \n",
       "3        10000012        27703   Male   27    Pink Cab                9237   \n",
       "4        10320494        27703   Male   27  Yellow Cab                9237   \n",
       "\n",
       "   Cost of Trip Date of Travel  Price Charged  KM Travelled Payment_Mode  \\\n",
       "0        313.63     2016-01-08         370.95         30.45         Card   \n",
       "1        317.42     2018-07-21         598.70         26.19         Cash   \n",
       "2        597.40     2018-11-23         792.05         42.55         Card   \n",
       "3        334.85     2016-01-06         358.52         28.62         Card   \n",
       "4        467.12     2018-04-21         721.10         36.38         Card   \n",
       "\n",
       "         City  Population  Users  \n",
       "0  ATLANTA GA      814885  24701  \n",
       "1  ATLANTA GA      814885  24701  \n",
       "2  ATLANTA GA      814885  24701  \n",
       "3  ATLANTA GA      814885  24701  \n",
       "4  ATLANTA GA      814885  24701  "
      ]
     },
     "execution_count": 27,
     "metadata": {},
     "output_type": "execute_result"
    }
   ],
   "source": [
    "#we'll rearrange the columns for convenience\n",
    "cab= cab[['Transaction ID','Customer ID', 'Gender', 'Age', 'Company', 'Income (USD/Month)', 'Cost of Trip', 'Date of Travel', 'Price Charged', 'KM Travelled', 'Payment_Mode', 'City', 'Population','Users']]\n",
    "cab.head()"
   ]
  },
  {
   "cell_type": "markdown",
   "metadata": {},
   "source": [
    "#### We'll add columns: Profit, Profit Percentage and Profit per KM to gain information on the profit of each ride and how that relates to the length of it."
   ]
  },
  {
   "cell_type": "code",
   "execution_count": 28,
   "metadata": {},
   "outputs": [],
   "source": [
    "cab['Profit'] = cab['Price Charged'] - cab['Cost of Trip']\n",
    "cab['Profit Percentage'] = (cab['Profit'] / cab['Cost of Trip']) * 100\n",
    "cab['Profit by KM'] = cab['Profit'] / cab['KM Travelled']"
   ]
  },
  {
   "cell_type": "markdown",
   "metadata": {},
   "source": [
    "# <center>EDA </center>"
   ]
  },
  {
   "cell_type": "code",
   "execution_count": 62,
   "metadata": {},
   "outputs": [
    {
     "data": {
      "text/html": [
       "<div>\n",
       "<style scoped>\n",
       "    .dataframe tbody tr th:only-of-type {\n",
       "        vertical-align: middle;\n",
       "    }\n",
       "\n",
       "    .dataframe tbody tr th {\n",
       "        vertical-align: top;\n",
       "    }\n",
       "\n",
       "    .dataframe thead th {\n",
       "        text-align: right;\n",
       "    }\n",
       "</style>\n",
       "<table border=\"1\" class=\"dataframe\">\n",
       "  <thead>\n",
       "    <tr style=\"text-align: right;\">\n",
       "      <th></th>\n",
       "      <th>Transaction ID</th>\n",
       "      <th>Customer ID</th>\n",
       "      <th>Gender</th>\n",
       "      <th>Age</th>\n",
       "      <th>Company</th>\n",
       "      <th>Income (USD/Month)</th>\n",
       "      <th>Cost of Trip</th>\n",
       "      <th>Date of Travel</th>\n",
       "      <th>Price Charged</th>\n",
       "      <th>KM Travelled</th>\n",
       "      <th>Payment_Mode</th>\n",
       "      <th>City</th>\n",
       "      <th>Population</th>\n",
       "      <th>Users</th>\n",
       "      <th>Profit</th>\n",
       "      <th>Profit Percentage</th>\n",
       "      <th>Profit by KM</th>\n",
       "    </tr>\n",
       "  </thead>\n",
       "  <tbody>\n",
       "    <tr>\n",
       "      <th>0</th>\n",
       "      <td>10000011</td>\n",
       "      <td>29290</td>\n",
       "      <td>Male</td>\n",
       "      <td>28</td>\n",
       "      <td>Pink Cab</td>\n",
       "      <td>10813</td>\n",
       "      <td>313.63</td>\n",
       "      <td>2016-01-08</td>\n",
       "      <td>370.95</td>\n",
       "      <td>30.45</td>\n",
       "      <td>Card</td>\n",
       "      <td>ATLANTA GA</td>\n",
       "      <td>814885</td>\n",
       "      <td>24701</td>\n",
       "      <td>57.31</td>\n",
       "      <td>18.27</td>\n",
       "      <td>1.88</td>\n",
       "    </tr>\n",
       "    <tr>\n",
       "      <th>1</th>\n",
       "      <td>10351127</td>\n",
       "      <td>29290</td>\n",
       "      <td>Male</td>\n",
       "      <td>28</td>\n",
       "      <td>Yellow Cab</td>\n",
       "      <td>10813</td>\n",
       "      <td>317.42</td>\n",
       "      <td>2018-07-21</td>\n",
       "      <td>598.70</td>\n",
       "      <td>26.19</td>\n",
       "      <td>Cash</td>\n",
       "      <td>ATLANTA GA</td>\n",
       "      <td>814885</td>\n",
       "      <td>24701</td>\n",
       "      <td>281.28</td>\n",
       "      <td>88.61</td>\n",
       "      <td>10.74</td>\n",
       "    </tr>\n",
       "    <tr>\n",
       "      <th>2</th>\n",
       "      <td>10412921</td>\n",
       "      <td>29290</td>\n",
       "      <td>Male</td>\n",
       "      <td>28</td>\n",
       "      <td>Yellow Cab</td>\n",
       "      <td>10813</td>\n",
       "      <td>597.40</td>\n",
       "      <td>2018-11-23</td>\n",
       "      <td>792.05</td>\n",
       "      <td>42.55</td>\n",
       "      <td>Card</td>\n",
       "      <td>ATLANTA GA</td>\n",
       "      <td>814885</td>\n",
       "      <td>24701</td>\n",
       "      <td>194.65</td>\n",
       "      <td>32.58</td>\n",
       "      <td>4.57</td>\n",
       "    </tr>\n",
       "    <tr>\n",
       "      <th>3</th>\n",
       "      <td>10000012</td>\n",
       "      <td>27703</td>\n",
       "      <td>Male</td>\n",
       "      <td>27</td>\n",
       "      <td>Pink Cab</td>\n",
       "      <td>9237</td>\n",
       "      <td>334.85</td>\n",
       "      <td>2016-01-06</td>\n",
       "      <td>358.52</td>\n",
       "      <td>28.62</td>\n",
       "      <td>Card</td>\n",
       "      <td>ATLANTA GA</td>\n",
       "      <td>814885</td>\n",
       "      <td>24701</td>\n",
       "      <td>23.67</td>\n",
       "      <td>7.07</td>\n",
       "      <td>0.83</td>\n",
       "    </tr>\n",
       "    <tr>\n",
       "      <th>4</th>\n",
       "      <td>10320494</td>\n",
       "      <td>27703</td>\n",
       "      <td>Male</td>\n",
       "      <td>27</td>\n",
       "      <td>Yellow Cab</td>\n",
       "      <td>9237</td>\n",
       "      <td>467.12</td>\n",
       "      <td>2018-04-21</td>\n",
       "      <td>721.10</td>\n",
       "      <td>36.38</td>\n",
       "      <td>Card</td>\n",
       "      <td>ATLANTA GA</td>\n",
       "      <td>814885</td>\n",
       "      <td>24701</td>\n",
       "      <td>253.98</td>\n",
       "      <td>54.37</td>\n",
       "      <td>6.98</td>\n",
       "    </tr>\n",
       "  </tbody>\n",
       "</table>\n",
       "</div>"
      ],
      "text/plain": [
       "   Transaction ID  Customer ID Gender  Age     Company  Income (USD/Month)  \\\n",
       "0        10000011        29290   Male   28    Pink Cab               10813   \n",
       "1        10351127        29290   Male   28  Yellow Cab               10813   \n",
       "2        10412921        29290   Male   28  Yellow Cab               10813   \n",
       "3        10000012        27703   Male   27    Pink Cab                9237   \n",
       "4        10320494        27703   Male   27  Yellow Cab                9237   \n",
       "\n",
       "   Cost of Trip Date of Travel  Price Charged  KM Travelled Payment_Mode  \\\n",
       "0        313.63     2016-01-08         370.95         30.45         Card   \n",
       "1        317.42     2018-07-21         598.70         26.19         Cash   \n",
       "2        597.40     2018-11-23         792.05         42.55         Card   \n",
       "3        334.85     2016-01-06         358.52         28.62         Card   \n",
       "4        467.12     2018-04-21         721.10         36.38         Card   \n",
       "\n",
       "         City  Population  Users  Profit  Profit Percentage  Profit by KM  \n",
       "0  ATLANTA GA      814885  24701   57.31              18.27          1.88  \n",
       "1  ATLANTA GA      814885  24701  281.28              88.61         10.74  \n",
       "2  ATLANTA GA      814885  24701  194.65              32.58          4.57  \n",
       "3  ATLANTA GA      814885  24701   23.67               7.07          0.83  \n",
       "4  ATLANTA GA      814885  24701  253.98              54.37          6.98  "
      ]
     },
     "execution_count": 62,
     "metadata": {},
     "output_type": "execute_result"
    }
   ],
   "source": [
    "cab.head()"
   ]
  },
  {
   "cell_type": "code",
   "execution_count": 31,
   "metadata": {},
   "outputs": [
    {
     "data": {
      "text/html": [
       "<div>\n",
       "<style scoped>\n",
       "    .dataframe tbody tr th:only-of-type {\n",
       "        vertical-align: middle;\n",
       "    }\n",
       "\n",
       "    .dataframe tbody tr th {\n",
       "        vertical-align: top;\n",
       "    }\n",
       "\n",
       "    .dataframe thead th {\n",
       "        text-align: right;\n",
       "    }\n",
       "</style>\n",
       "<table border=\"1\" class=\"dataframe\">\n",
       "  <thead>\n",
       "    <tr style=\"text-align: right;\">\n",
       "      <th></th>\n",
       "      <th>Transaction ID</th>\n",
       "      <th>Customer ID</th>\n",
       "      <th>Age</th>\n",
       "      <th>Income (USD/Month)</th>\n",
       "      <th>Cost of Trip</th>\n",
       "      <th>Price Charged</th>\n",
       "      <th>KM Travelled</th>\n",
       "      <th>Population</th>\n",
       "      <th>Users</th>\n",
       "      <th>Profit</th>\n",
       "      <th>Profit Percentage</th>\n",
       "      <th>Profit by KM</th>\n",
       "    </tr>\n",
       "  </thead>\n",
       "  <tbody>\n",
       "    <tr>\n",
       "      <th>count</th>\n",
       "      <td>359,392.00</td>\n",
       "      <td>359,392.00</td>\n",
       "      <td>359,392.00</td>\n",
       "      <td>359,392.00</td>\n",
       "      <td>359,392.00</td>\n",
       "      <td>359,392.00</td>\n",
       "      <td>359,392.00</td>\n",
       "      <td>359,392.00</td>\n",
       "      <td>359,392.00</td>\n",
       "      <td>359,392.00</td>\n",
       "      <td>359,392.00</td>\n",
       "      <td>359,392.00</td>\n",
       "    </tr>\n",
       "    <tr>\n",
       "      <th>mean</th>\n",
       "      <td>10,220,761.19</td>\n",
       "      <td>19,191.65</td>\n",
       "      <td>35.34</td>\n",
       "      <td>15,048.82</td>\n",
       "      <td>286.19</td>\n",
       "      <td>423.44</td>\n",
       "      <td>22.57</td>\n",
       "      <td>3,132,198.04</td>\n",
       "      <td>158,365.58</td>\n",
       "      <td>137.25</td>\n",
       "      <td>47.52</td>\n",
       "      <td>6.08</td>\n",
       "    </tr>\n",
       "    <tr>\n",
       "      <th>std</th>\n",
       "      <td>126,805.80</td>\n",
       "      <td>21,012.41</td>\n",
       "      <td>12.59</td>\n",
       "      <td>7,969.41</td>\n",
       "      <td>157.99</td>\n",
       "      <td>274.38</td>\n",
       "      <td>12.23</td>\n",
       "      <td>3,315,194.39</td>\n",
       "      <td>100,850.05</td>\n",
       "      <td>160.31</td>\n",
       "      <td>42.57</td>\n",
       "      <td>5.54</td>\n",
       "    </tr>\n",
       "    <tr>\n",
       "      <th>min</th>\n",
       "      <td>10,000,011.00</td>\n",
       "      <td>1.00</td>\n",
       "      <td>18.00</td>\n",
       "      <td>2,000.00</td>\n",
       "      <td>19.00</td>\n",
       "      <td>15.60</td>\n",
       "      <td>1.90</td>\n",
       "      <td>248,968.00</td>\n",
       "      <td>3,643.00</td>\n",
       "      <td>-220.06</td>\n",
       "      <td>-40.93</td>\n",
       "      <td>-5.00</td>\n",
       "    </tr>\n",
       "    <tr>\n",
       "      <th>25%</th>\n",
       "      <td>10,110,809.75</td>\n",
       "      <td>2,705.00</td>\n",
       "      <td>25.00</td>\n",
       "      <td>8,424.00</td>\n",
       "      <td>151.20</td>\n",
       "      <td>206.44</td>\n",
       "      <td>12.00</td>\n",
       "      <td>671,238.00</td>\n",
       "      <td>80,021.00</td>\n",
       "      <td>28.01</td>\n",
       "      <td>16.08</td>\n",
       "      <td>2.00</td>\n",
       "    </tr>\n",
       "    <tr>\n",
       "      <th>50%</th>\n",
       "      <td>10,221,035.50</td>\n",
       "      <td>7,459.00</td>\n",
       "      <td>33.00</td>\n",
       "      <td>14,685.00</td>\n",
       "      <td>282.48</td>\n",
       "      <td>386.36</td>\n",
       "      <td>22.44</td>\n",
       "      <td>1,595,037.00</td>\n",
       "      <td>144,132.00</td>\n",
       "      <td>81.96</td>\n",
       "      <td>35.93</td>\n",
       "      <td>4.47</td>\n",
       "    </tr>\n",
       "    <tr>\n",
       "      <th>75%</th>\n",
       "      <td>10,330,937.25</td>\n",
       "      <td>36,078.00</td>\n",
       "      <td>42.00</td>\n",
       "      <td>21,035.00</td>\n",
       "      <td>413.68</td>\n",
       "      <td>583.66</td>\n",
       "      <td>32.96</td>\n",
       "      <td>8,405,837.00</td>\n",
       "      <td>302,149.00</td>\n",
       "      <td>190.03</td>\n",
       "      <td>71.27</td>\n",
       "      <td>9.17</td>\n",
       "    </tr>\n",
       "    <tr>\n",
       "      <th>max</th>\n",
       "      <td>10,440,107.00</td>\n",
       "      <td>60,000.00</td>\n",
       "      <td>65.00</td>\n",
       "      <td>35,000.00</td>\n",
       "      <td>691.20</td>\n",
       "      <td>2,048.03</td>\n",
       "      <td>48.00</td>\n",
       "      <td>8,405,837.00</td>\n",
       "      <td>302,149.00</td>\n",
       "      <td>1,463.97</td>\n",
       "      <td>320.21</td>\n",
       "      <td>41.12</td>\n",
       "    </tr>\n",
       "  </tbody>\n",
       "</table>\n",
       "</div>"
      ],
      "text/plain": [
       "       Transaction ID  Customer ID        Age  Income (USD/Month)  \\\n",
       "count      359,392.00   359,392.00 359,392.00          359,392.00   \n",
       "mean    10,220,761.19    19,191.65      35.34           15,048.82   \n",
       "std        126,805.80    21,012.41      12.59            7,969.41   \n",
       "min     10,000,011.00         1.00      18.00            2,000.00   \n",
       "25%     10,110,809.75     2,705.00      25.00            8,424.00   \n",
       "50%     10,221,035.50     7,459.00      33.00           14,685.00   \n",
       "75%     10,330,937.25    36,078.00      42.00           21,035.00   \n",
       "max     10,440,107.00    60,000.00      65.00           35,000.00   \n",
       "\n",
       "       Cost of Trip  Price Charged  KM Travelled   Population      Users  \\\n",
       "count    359,392.00     359,392.00    359,392.00   359,392.00 359,392.00   \n",
       "mean         286.19         423.44         22.57 3,132,198.04 158,365.58   \n",
       "std          157.99         274.38         12.23 3,315,194.39 100,850.05   \n",
       "min           19.00          15.60          1.90   248,968.00   3,643.00   \n",
       "25%          151.20         206.44         12.00   671,238.00  80,021.00   \n",
       "50%          282.48         386.36         22.44 1,595,037.00 144,132.00   \n",
       "75%          413.68         583.66         32.96 8,405,837.00 302,149.00   \n",
       "max          691.20       2,048.03         48.00 8,405,837.00 302,149.00   \n",
       "\n",
       "          Profit  Profit Percentage  Profit by KM  \n",
       "count 359,392.00         359,392.00    359,392.00  \n",
       "mean      137.25              47.52          6.08  \n",
       "std       160.31              42.57          5.54  \n",
       "min      -220.06             -40.93         -5.00  \n",
       "25%        28.01              16.08          2.00  \n",
       "50%        81.96              35.93          4.47  \n",
       "75%       190.03              71.27          9.17  \n",
       "max     1,463.97             320.21         41.12  "
      ]
     },
     "execution_count": 31,
     "metadata": {},
     "output_type": "execute_result"
    }
   ],
   "source": [
    "cab.describe()"
   ]
  },
  {
   "cell_type": "code",
   "execution_count": 32,
   "metadata": {},
   "outputs": [
    {
     "data": {
      "text/plain": [
       "False    359392\n",
       "dtype: int64"
      ]
     },
     "execution_count": 32,
     "metadata": {},
     "output_type": "execute_result"
    }
   ],
   "source": [
    "cab.duplicated().value_counts()"
   ]
  },
  {
   "cell_type": "markdown",
   "metadata": {},
   "source": [
    "#### <i>We notice that you have to be 18 to sign up for the service to request a cab and that there are no duplicated values. </i>"
   ]
  },
  {
   "cell_type": "markdown",
   "metadata": {},
   "source": [
    "<center>...</center>"
   ]
  },
  {
   "cell_type": "markdown",
   "metadata": {},
   "source": [
    "#### We will see which city has the highest percentage of population signed up for the cab services (user/population ratio)."
   ]
  },
  {
   "cell_type": "code",
   "execution_count": 36,
   "metadata": {},
   "outputs": [
    {
     "data": {
      "text/plain": [
       "City\n",
       "SAN FRANCISCO CA   0.34\n",
       "BOSTON MA          0.32\n",
       "WASHINGTON DC      0.30\n",
       "LOS ANGELES CA     0.09\n",
       "CHICAGO IL         0.08\n",
       "SAN DIEGO CA       0.07\n",
       "SEATTLE WA         0.04\n",
       "NEW YORK NY        0.04\n",
       "ATLANTA GA         0.03\n",
       "NASHVILLE TN       0.03\n",
       "DALLAS TX          0.02\n",
       "SILICON VALLEY     0.02\n",
       "AUSTIN TX          0.02\n",
       "DENVER CO          0.02\n",
       "MIAMI FL           0.01\n",
       "SACRAMENTO CA      0.01\n",
       "ORANGE COUNTY      0.01\n",
       "TUCSON AZ          0.01\n",
       "PITTSBURGH PA      0.01\n",
       "PHOENIX AZ         0.01\n",
       "Name: Ratio, dtype: float64"
      ]
     },
     "execution_count": 36,
     "metadata": {},
     "output_type": "execute_result"
    }
   ],
   "source": [
    "#the ratio between population to users\n",
    "city['Ratio'] = city['Users']/city['Population']\n",
    "city.groupby('City').Ratio.mean().sort_values(ascending = False)"
   ]
  },
  {
   "cell_type": "code",
   "execution_count": 300,
   "metadata": {},
   "outputs": [
    {
     "data": {
      "image/png": "[encoded data removed]",
      "text/plain": [
       "<Figure size 432x288 with 1 Axes>"
      ]
     },
     "metadata": {
      "needs_background": "light"
     },
     "output_type": "display_data"
    }
   ],
   "source": [
    "sns.barplot(x= city.City, y = city.Ratio, palette = 'husl')\n",
    "plt.xticks(rotation = 90)\n",
    "plt.show()"
   ]
  },
  {
   "cell_type": "markdown",
   "metadata": {},
   "source": [
    "#### <i> We find that SAN FRANCISCO CA has the highest population percentage with 34% of its population signed up for a cab service, followed by BOSTON then WASHINGTON.</i>"
   ]
  },
  {
   "cell_type": "markdown",
   "metadata": {},
   "source": [
    "#### <i> Checking the values of 'city' and 'cab', we find that San Francisco is missing from the second dataframe so we'll use Boston, the second highest population percentage for our next hypothesis.</i>"
   ]
  },
  {
   "cell_type": "markdown",
   "metadata": {},
   "source": [
    "### <center> HYPOTHESIS 1: Boston, MA is the city with the highest number of users and rides </center>"
   ]
  },
  {
   "cell_type": "code",
   "execution_count": 74,
   "metadata": {},
   "outputs": [
    {
     "data": {
      "text/plain": [
       "City\n",
       "NEW YORK NY       302149\n",
       "CHICAGO IL        164468\n",
       "LOS ANGELES CA    144132\n",
       "WASHINGTON DC     127001\n",
       "BOSTON MA          80021\n",
       "SAN DIEGO CA       69995\n",
       "SILICON VALLEY     27247\n",
       "SEATTLE WA         25063\n",
       "ATLANTA GA         24701\n",
       "DALLAS TX          22157\n",
       "MIAMI FL           17675\n",
       "AUSTIN TX          14978\n",
       "ORANGE COUNTY      12994\n",
       "DENVER CO          12421\n",
       "NASHVILLE TN        9270\n",
       "SACRAMENTO CA       7044\n",
       "PHOENIX AZ          6133\n",
       "TUCSON AZ           5712\n",
       "PITTSBURGH PA       3643\n",
       "Name: Users, dtype: int64"
      ]
     },
     "execution_count": 74,
     "metadata": {},
     "output_type": "execute_result"
    }
   ],
   "source": [
    "#checking which city has the highest number of users\n",
    "cab.groupby('City')['Users'].mean().sort_values(ascending = False)"
   ]
  },
  {
   "cell_type": "code",
   "execution_count": 86,
   "metadata": {},
   "outputs": [
    {
     "data": {
      "text/plain": [
       "City\n",
       "NEW YORK NY       99885\n",
       "CHICAGO IL        56625\n",
       "LOS ANGELES CA    48033\n",
       "WASHINGTON DC     43737\n",
       "BOSTON MA         29692\n",
       "SAN DIEGO CA      20488\n",
       "SILICON VALLEY     8519\n",
       "SEATTLE WA         7997\n",
       "ATLANTA GA         7557\n",
       "DALLAS TX          7017\n",
       "MIAMI FL           6454\n",
       "AUSTIN TX          4896\n",
       "ORANGE COUNTY      3982\n",
       "DENVER CO          3825\n",
       "NASHVILLE TN       3010\n",
       "SACRAMENTO CA      2367\n",
       "PHOENIX AZ         2064\n",
       "TUCSON AZ          1931\n",
       "PITTSBURGH PA      1313\n",
       "Name: Transaction ID, dtype: int64"
      ]
     },
     "execution_count": 86,
     "metadata": {},
     "output_type": "execute_result"
    }
   ],
   "source": [
    "#checking which city has the highest number of rides\n",
    "cab.groupby('City')['Transaction ID'].count().sort_values(ascending = False)"
   ]
  },
  {
   "cell_type": "code",
   "execution_count": 301,
   "metadata": {},
   "outputs": [
    {
     "data": {
      "image/png": "[encoded data removed]",
      "text/plain": [
       "<Figure size 1080x360 with 2 Axes>"
      ]
     },
     "metadata": {
      "needs_background": "light"
     },
     "output_type": "display_data"
    }
   ],
   "source": [
    "fig, axes = plt.subplots(1,2, figsize = (15,5))\n",
    "sns.barplot(ax = axes[0], x = cab['City'].value_counts().index, y = cab['City'].value_counts(), palette = 'husl')\n",
    "sns.barplot(ax= axes[1], data = cab, x = 'City', y = 'Users', palette = 'husl')\n",
    "axes[0].set(ylabel = 'Number of Rides')\n",
    "axes[1].set(ylabel = 'Number of Users')\n",
    "axes[0].tick_params(axis='x', labelrotation = 90)\n",
    "axes[1].tick_params(axis='x', labelrotation = 90)\n",
    "plt.show()"
   ]
  },
  {
   "cell_type": "markdown",
   "metadata": {},
   "source": [
    "### <i> Conclusion: Hypothesis was wrong. New York has the highest number of users, over 300 thousand users and also the biggest number of rides, around 100 thousand rides compared to Boston's 8 and 29 thousands respectively. </i>"
   ]
  },
  {
   "cell_type": "markdown",
   "metadata": {},
   "source": [
    "<center>...</center>"
   ]
  },
  {
   "cell_type": "markdown",
   "metadata": {},
   "source": [
    "### <center> HYPOTHESIS 2: New York is the city that brings forth the biggest profit </center>"
   ]
  },
  {
   "cell_type": "code",
   "execution_count": 39,
   "metadata": {},
   "outputs": [
    {
     "data": {
      "text/plain": [
       "City\n",
       "NEW YORK NY      95.84\n",
       "DALLAS TX        54.69\n",
       "SILICON VALLEY   54.20\n",
       "MIAMI FL         41.21\n",
       "ORANGE COUNTY    41.00\n",
       "ATLANTA GA       39.22\n",
       "AUSTIN TX        39.01\n",
       "DENVER CO        36.10\n",
       "PHOENIX AZ       33.32\n",
       "LOS ANGELES CA   32.65\n",
       "SAN DIEGO CA     28.53\n",
       "WASHINGTON DC    27.36\n",
       "TUCSON AZ        26.70\n",
       "SEATTLE WA       26.67\n",
       "PITTSBURGH PA    22.31\n",
       "BOSTON MA        20.94\n",
       "CHICAGO IL       20.73\n",
       "SACRAMENTO CA    18.28\n",
       "NASHVILLE TN     18.27\n",
       "Name: Profit Percentage, dtype: float64"
      ]
     },
     "execution_count": 39,
     "metadata": {},
     "output_type": "execute_result"
    }
   ],
   "source": [
    "#checking which city has the highest profit percentage\n",
    "cab.groupby('City')['Profit Percentage'].mean().sort_values(ascending = False)"
   ]
  },
  {
   "cell_type": "code",
   "execution_count": 40,
   "metadata": {},
   "outputs": [
    {
     "data": {
      "text/plain": [
       "City\n",
       "NEW YORK NY      27,962,555.16\n",
       "LOS ANGELES CA    4,411,708.65\n",
       "WASHINGTON DC     3,492,870.16\n",
       "CHICAGO IL        3,387,313.41\n",
       "BOSTON MA         1,768,719.27\n",
       "SAN DIEGO CA      1,587,163.47\n",
       "SILICON VALLEY    1,316,705.27\n",
       "DALLAS TX         1,128,733.27\n",
       "ATLANTA GA          842,432.88\n",
       "MIAMI FL            758,301.24\n",
       "SEATTLE WA          604,684.85\n",
       "AUSTIN TX           526,701.03\n",
       "ORANGE COUNTY       457,001.87\n",
       "DENVER CO           397,585.01\n",
       "PHOENIX AZ          192,940.88\n",
       "NASHVILLE TN        149,532.22\n",
       "TUCSON AZ           140,260.70\n",
       "SACRAMENTO CA       117,326.19\n",
       "PITTSBURGH PA        85,165.96\n",
       "Name: Profit, dtype: float64"
      ]
     },
     "execution_count": 40,
     "metadata": {},
     "output_type": "execute_result"
    }
   ],
   "source": [
    "cab.groupby('City')['Profit'].sum().sort_values(ascending = False)"
   ]
  },
  {
   "cell_type": "code",
   "execution_count": 302,
   "metadata": {},
   "outputs": [
    {
     "data": {
      "image/png": "[encoded data removed]",
      "text/plain": [
       "<Figure size 1080x360 with 2 Axes>"
      ]
     },
     "metadata": {
      "needs_background": "light"
     },
     "output_type": "display_data"
    }
   ],
   "source": [
    "# check which city has higer profit percentage and profit per one kilometer\n",
    "fig,axes = plt.subplots(1,2, figsize=(15, 5))\n",
    "sns.barplot(ax= axes[0], data = cab, x='City', y = 'Profit Percentage', palette = 'husl')\n",
    "sns.barplot(ax= axes[1], data = cab, x='City', y = cab['Profit by KM'], palette = 'husl')\n",
    "axes[0].tick_params(axis='x', labelrotation = 90)\n",
    "axes[1].tick_params(axis='x', labelrotation = 90)\n",
    "axes[1].set(ylabel='Profit in $ for One KM')\n",
    "plt.show()"
   ]
  },
  {
   "cell_type": "markdown",
   "metadata": {},
   "source": [
    "### <i> Conclusion: Hypothesis was right. New York has the biggest mean profit, as well as the biggest profit percentage of 95%, which means the fare is almost doubled from the actual cost of the ride, making the net profit almost 28 million dollars for New York. </i>"
   ]
  },
  {
   "cell_type": "markdown",
   "metadata": {},
   "source": [
    "<center>...</center>"
   ]
  },
  {
   "cell_type": "markdown",
   "metadata": {},
   "source": [
    "### <center> HYPOTHESIS 3: Profit is higher in December for the holidays </center>"
   ]
  },
  {
   "cell_type": "code",
   "execution_count": 94,
   "metadata": {},
   "outputs": [
    {
     "data": {
      "text/plain": [
       "Date of Travel\n",
       "2    60.54\n",
       "5    60.05\n",
       "1    55.59\n",
       "3    54.93\n",
       "4    53.39\n",
       "6    52.95\n",
       "12   46.31\n",
       "11   44.17\n",
       "9    43.60\n",
       "10   42.32\n",
       "7    39.40\n",
       "8    36.03\n",
       "Name: Profit Percentage, dtype: float64"
      ]
     },
     "execution_count": 94,
     "metadata": {},
     "output_type": "execute_result"
    }
   ],
   "source": [
    "#We check the profit percentage of each month in the year\n",
    "cab.groupby(cab['Date of Travel'].dt.month)['Profit Percentage'].mean().sort_values(ascending = False)"
   ]
  },
  {
   "cell_type": "code",
   "execution_count": 95,
   "metadata": {},
   "outputs": [
    {
     "data": {
      "text/plain": [
       "Date of Travel\n",
       "12   6,204,924.58\n",
       "11   5,419,647.47\n",
       "10   4,946,948.78\n",
       "9    4,636,817.78\n",
       "5    4,152,157.49\n",
       "6    3,813,053.68\n",
       "1    3,746,490.33\n",
       "3    3,450,311.42\n",
       "4    3,321,360.95\n",
       "8    3,244,522.18\n",
       "2    3,228,020.04\n",
       "7    3,163,446.79\n",
       "Name: Profit, dtype: float64"
      ]
     },
     "execution_count": 95,
     "metadata": {},
     "output_type": "execute_result"
    }
   ],
   "source": [
    "#the net profit based on month of the year\n",
    "cab.groupby(cab['Date of Travel'].dt.month)['Profit'].sum().sort_values(ascending = False)"
   ]
  },
  {
   "cell_type": "code",
   "execution_count": 96,
   "metadata": {},
   "outputs": [
    {
     "data": {
      "text/plain": [
       "Date of Travel\n",
       "2    7.81\n",
       "5    7.79\n",
       "1    7.13\n",
       "3    7.07\n",
       "4    6.88\n",
       "6    6.84\n",
       "12   5.86\n",
       "11   5.60\n",
       "9    5.58\n",
       "10   5.38\n",
       "7    5.05\n",
       "8    4.59\n",
       "Name: Profit by KM, dtype: float64"
      ]
     },
     "execution_count": 96,
     "metadata": {},
     "output_type": "execute_result"
    }
   ],
   "source": [
    "#profit by km travelled\n",
    "cab.groupby(cab['Date of Travel'].dt.month)['Profit by KM'].mean().sort_values(ascending = False)"
   ]
  },
  {
   "cell_type": "code",
   "execution_count": 303,
   "metadata": {},
   "outputs": [
    {
     "data": {
      "image/png": "[encoded data removed]",
      "text/plain": [
       "<Figure size 1080x360 with 2 Axes>"
      ]
     },
     "metadata": {
      "needs_background": "light"
     },
     "output_type": "display_data"
    }
   ],
   "source": [
    "sumpermonth= cab.groupby(cab['Date of Travel'].dt.month)['Profit'].sum()\n",
    "fig, axes = plt.subplots(1,2, figsize=(15, 5))\n",
    "fig.suptitle('Total Monthly Profit Themes')\n",
    "sns.barplot(ax = axes[0], x= cab['Date of Travel'].dt.month, y= cab['Profit Percentage'], palette = 'husl')\n",
    "axes[0].set(xlabel = 'Month of Travel')\n",
    "sns.barplot(ax = axes[1], x= sumpermonth.index, y= sumpermonth/1000000, palette = 'husl')\n",
    "axes[1].set(xlabel = 'Month of Travel', ylabel = 'Profit in Millons')\n",
    "plt.show()"
   ]
  },
  {
   "cell_type": "markdown",
   "metadata": {},
   "source": [
    "#### We find a contradiction between the mean profit/profit per KM being relatively low in Dec while the new profit is the highest of the year then. To find out more, we'll check the number of rides and kilometers travelled during Dec."
   ]
  },
  {
   "cell_type": "code",
   "execution_count": 100,
   "metadata": {},
   "outputs": [
    {
     "data": {
      "text/plain": [
       "Date of Travel\n",
       "12    47007\n",
       "11    42700\n",
       "10    40852\n",
       "9     36859\n",
       "8     31323\n",
       "7     27676\n",
       "6     24713\n",
       "5     23701\n",
       "1     23174\n",
       "3     21646\n",
       "4     21434\n",
       "2     18307\n",
       "Name: Transaction ID, dtype: int64"
      ]
     },
     "execution_count": 100,
     "metadata": {},
     "output_type": "execute_result"
    }
   ],
   "source": [
    "#number of rides each month\n",
    "ridepermonth = cab.groupby(cab['Date of Travel'].dt.month)['Transaction ID'].count()\n",
    "ridepermonth.sort_values(ascending = False)"
   ]
  },
  {
   "cell_type": "code",
   "execution_count": 99,
   "metadata": {},
   "outputs": [
    {
     "data": {
      "text/plain": [
       "Date of Travel\n",
       "12   1,061,369.17\n",
       "11     963,703.70\n",
       "10     919,750.06\n",
       "9      828,823.82\n",
       "8      706,188.38\n",
       "7      626,732.29\n",
       "6      558,349.01\n",
       "5      533,051.89\n",
       "1      525,787.74\n",
       "3      490,641.81\n",
       "4      483,702.22\n",
       "2      412,390.49\n",
       "Name: KM Travelled, dtype: float64"
      ]
     },
     "execution_count": 99,
     "metadata": {},
     "output_type": "execute_result"
    }
   ],
   "source": [
    "#sum of kilometers travelled\n",
    "cab.groupby(cab['Date of Travel'].dt.month)['KM Travelled'].sum().sort_values(ascending = False)"
   ]
  },
  {
   "cell_type": "code",
   "execution_count": 108,
   "metadata": {},
   "outputs": [
    {
     "data": {
      "image/png": "[encoded data removed]",
      "text/plain": [
       "<Figure size 432x288 with 1 Axes>"
      ]
     },
     "metadata": {
      "needs_background": "light"
     },
     "output_type": "display_data"
    }
   ],
   "source": [
    "#line plot for ride progression throughout the year \n",
    "import matplotlib.ticker as ticker\n",
    "ax1 = sns.lineplot(x= ridepermonth.index, y= ridepermonth.values)\n",
    "ax1.xaxis.set_major_locator(ticker.MultipleLocator(1))"
   ]
  },
  {
   "cell_type": "markdown",
   "metadata": {},
   "source": [
    "### <i> Conclusion: Hypothesis was right. Net profit increased to a total of a little over 6.2 million dollars even though the profit of each ride went down due to holiday discounts, the increase in the number of customers made up for that decrease and the profit and money made ended up increasing.\n",
    "Note: similarly, same thing happened with KM travelled, the profit of each KM went down but the increase in the number of KM travelled in total made for the profit increase overall.</i>"
   ]
  },
  {
   "cell_type": "markdown",
   "metadata": {},
   "source": [
    "<center>...</center>"
   ]
  },
  {
   "cell_type": "markdown",
   "metadata": {},
   "source": [
    "### <center> HYPOTHESIS 4: Yellow Cab is used more for rides and brings more profit than Pink Cab.  </center>"
   ]
  },
  {
   "cell_type": "code",
   "execution_count": 125,
   "metadata": {},
   "outputs": [
    {
     "data": {
      "text/plain": [
       "Company\n",
       "Pink Cab       84711\n",
       "Yellow Cab    274681\n",
       "Name: Transaction ID, dtype: int64"
      ]
     },
     "execution_count": 125,
     "metadata": {},
     "output_type": "execute_result"
    }
   ],
   "source": [
    "#we check the number of rides,profit percentage, profit per KM, net profit etc\n",
    "companyride = cab.groupby('Company')['Transaction ID'].count()\n",
    "companyride"
   ]
  },
  {
   "cell_type": "code",
   "execution_count": 142,
   "metadata": {},
   "outputs": [
    {
     "data": {
      "text/plain": [
       "Company\n",
       "Pink Cab     25.56\n",
       "Yellow Cab   54.30\n",
       "Name: Profit Percentage, dtype: float64"
      ]
     },
     "execution_count": 142,
     "metadata": {},
     "output_type": "execute_result"
    }
   ],
   "source": [
    "companypercent = cab.groupby('Company')['Profit Percentage'].mean()\n",
    "companypercent"
   ]
  },
  {
   "cell_type": "code",
   "execution_count": 152,
   "metadata": {},
   "outputs": [
    {
     "data": {
      "text/plain": [
       "Company\n",
       "Pink Cab      62.65\n",
       "Yellow Cab   160.26\n",
       "Name: Profit, dtype: float64"
      ]
     },
     "execution_count": 152,
     "metadata": {},
     "output_type": "execute_result"
    }
   ],
   "source": [
    "companyprofit = cab.groupby('Company')['Profit'].mean()\n",
    "companyprofit"
   ]
  },
  {
   "cell_type": "code",
   "execution_count": 164,
   "metadata": {},
   "outputs": [
    {
     "data": {
      "text/plain": [
       "Company\n",
       "Pink Cab     2.77\n",
       "Yellow Cab   7.11\n",
       "Name: Profit by KM, dtype: float64"
      ]
     },
     "execution_count": 164,
     "metadata": {},
     "output_type": "execute_result"
    }
   ],
   "source": [
    "companykm = cab.groupby('Company')['Profit by KM'].mean()\n",
    "companykm"
   ]
  },
  {
   "cell_type": "code",
   "execution_count": 124,
   "metadata": {},
   "outputs": [
    {
     "data": {
      "text/plain": [
       "Company\n",
       "Pink Cab      5,307,328.32\n",
       "Yellow Cab   44,020,373.17\n",
       "Name: Profit, dtype: float64"
      ]
     },
     "execution_count": 124,
     "metadata": {},
     "output_type": "execute_result"
    }
   ],
   "source": [
    "cab.groupby('Company')['Profit'].sum()"
   ]
  },
  {
   "cell_type": "markdown",
   "metadata": {},
   "source": [
    "#### Now we'll start plotting these numbers to visualize findings"
   ]
  },
  {
   "cell_type": "code",
   "execution_count": 305,
   "metadata": {},
   "outputs": [
    {
     "data": {
      "image/png": "[encoded data removed]",
      "text/plain": [
       "<Figure size 1080x360 with 2 Axes>"
      ]
     },
     "metadata": {
      "needs_background": "light"
     },
     "output_type": "display_data"
    }
   ],
   "source": [
    "#Rides for each company and percentage of that\n",
    "colors = sns.color_palette(['#FFD700', '#E9967A'])\n",
    "fig, axes = plt.subplots(1,2, figsize = (15,5))\n",
    "sns.barplot(ax = axes[0],data=cab,x = companyride.index, y = companyride.values, palette=sns.color_palette(['#E9967A', '#FFD700']))\n",
    "axes[1].pie(cab['Company'].value_counts(), labels = cab['Company'].value_counts().index,autopct= '%1.1f%%', colors = colors,explode = [0,0.1])\n",
    "axes[0].set(ylabel= 'Number of Rides')\n",
    "axes[1].set(xlabel= 'Rides per Company')\n",
    "plt.show()"
   ]
  },
  {
   "cell_type": "code",
   "execution_count": 306,
   "metadata": {},
   "outputs": [
    {
     "data": {
      "image/png": "[encoded data removed]",
      "text/plain": [
       "<Figure size 1080x360 with 2 Axes>"
      ]
     },
     "metadata": {
      "needs_background": "light"
     },
     "output_type": "display_data"
    }
   ],
   "source": [
    "#Mean profit in $ and profit percentage\n",
    "colors1 = sns.color_palette(['#E9967A', '#FFD700'])\n",
    "fig, axes = plt.subplots(1,2, figsize = (15,5))\n",
    "sns.barplot(ax = axes[0],data=cab,x = companyprofit.index, y = companyprofit.values, palette = colors1)\n",
    "sns.barplot(ax = axes[1],data=cab,x = companypercent.index, y = companypercent.values, palette= colors1)\n",
    "axes[0].set(ylabel= 'Mean Profit in $ per Ride')\n",
    "axes[1].set(ylabel= 'Profit Percentage')\n",
    "plt.show()"
   ]
  },
  {
   "cell_type": "code",
   "execution_count": 307,
   "metadata": {},
   "outputs": [
    {
     "data": {
      "image/png": "[encoded data removed]",
      "text/plain": [
       "<Figure size 360x360 with 1 Axes>"
      ]
     },
     "metadata": {
      "needs_background": "light"
     },
     "output_type": "display_data"
    }
   ],
   "source": [
    "cat = sns.catplot(data = cab,kind= 'bar',palette = colors1,x= companykm.index, y= companykm.values)\n",
    "cat.set(ylabel = 'Profit in $ per 1 KM')\n",
    "plt.show()"
   ]
  },
  {
   "cell_type": "markdown",
   "metadata": {},
   "source": [
    "### <i> Conclusion: Hypothesis was right. Yellow Cab brings in more profit and has a higher number of rides recorded as well as moee dollars in profit per one KM. In total, Yellow Cab's net profit over the recorded years was a bit over 44 million dollars while the profit of Pink Cab was only slightly above 5.3 million dollars. </i>"
   ]
  },
  {
   "cell_type": "markdown",
   "metadata": {},
   "source": [
    "<center> ... </center>"
   ]
  },
  {
   "cell_type": "markdown",
   "metadata": {},
   "source": [
    "#### <i><center> More analysis regarding the different companies: </center></i>"
   ]
  },
  {
   "cell_type": "code",
   "execution_count": 188,
   "metadata": {},
   "outputs": [
    {
     "data": {
      "text/plain": [
       "Company     Gender\n",
       "Pink Cab    Male       47231\n",
       "            Female     37480\n",
       "Yellow Cab  Male      158681\n",
       "            Female    116000\n",
       "Name: Gender, dtype: int64"
      ]
     },
     "execution_count": 188,
     "metadata": {},
     "output_type": "execute_result"
    }
   ],
   "source": [
    "#Gender analysis of company users\n",
    "cab.groupby('Company')['Gender'].value_counts()"
   ]
  },
  {
   "cell_type": "code",
   "execution_count": 203,
   "metadata": {},
   "outputs": [],
   "source": [
    "pink= cab[cab.Company == 'Pink Cab'].groupby('Gender').Company.count()"
   ]
  },
  {
   "cell_type": "code",
   "execution_count": 202,
   "metadata": {},
   "outputs": [],
   "source": [
    "yell = cab[cab.Company == 'Yellow Cab'].groupby('Gender').Company.count()"
   ]
  },
  {
   "cell_type": "code",
   "execution_count": 291,
   "metadata": {},
   "outputs": [
    {
     "data": {
      "image/png": "[encoded data removed]",
      "text/plain": [
       "<Figure size 1080x360 with 2 Axes>"
      ]
     },
     "metadata": {
      "needs_background": "light"
     },
     "output_type": "display_data"
    }
   ],
   "source": [
    "colors2 = sns.color_palette([\"#E9967A\", \"#A52A2A\"])\n",
    "fig, axes = plt.subplots(1,2, figsize = (15,5))\n",
    "sns.barplot(ax= axes[0],x= pink.index, y=pink.values, palette= colors2)\n",
    "axes[1].pie(pink, labels = pink.index,autopct= '%1.1f%%', colors = colors2,explode = [0,0.1])\n",
    "axes[0].set(xlabel = 'Pink Cab', ylabel= 'Number of Customers')\n",
    "axes[1].set(xlabel = 'Customers')\n",
    "plt.show()"
   ]
  },
  {
   "cell_type": "code",
   "execution_count": 290,
   "metadata": {},
   "outputs": [
    {
     "data": {
      "text/plain": [
       "[Text(0.5, 0, 'Customers')]"
      ]
     },
     "execution_count": 290,
     "metadata": {},
     "output_type": "execute_result"
    },
    {
     "data": {
      "image/png": "[encoded data removed]",
      "text/plain": [
       "<Figure size 1080x360 with 2 Axes>"
      ]
     },
     "metadata": {
      "needs_background": "light"
     },
     "output_type": "display_data"
    }
   ],
   "source": [
    "colors3 = sns.color_palette([\"#FFD700\", \"#8B4513\"])\n",
    "fig, axes = plt.subplots(1,2, figsize = (15,5))\n",
    "sns.barplot(ax= axes[0], x= yell.index, y=yell.values, palette= colors3)\n",
    "axes[1].pie(yell, labels = yell.index,autopct= '%1.1f%%', colors = colors3,explode = [0,0.1])\n",
    "axes[0].set(xlabel = 'Yellow Cab', ylabel= 'Number of Customers')\n",
    "axes[1].set(xlabel = 'Customers')"
   ]
  },
  {
   "cell_type": "markdown",
   "metadata": {},
   "source": [
    "<center>...</center>"
   ]
  },
  {
   "cell_type": "markdown",
   "metadata": {},
   "source": [
    "### <center> HYPOTHESIS 5: Customers under 35 use cab service more.  </center>"
   ]
  },
  {
   "cell_type": "code",
   "execution_count": 236,
   "metadata": {},
   "outputs": [
    {
     "data": {
      "text/plain": [
       "35.33670476805271"
      ]
     },
     "execution_count": 236,
     "metadata": {},
     "output_type": "execute_result"
    }
   ],
   "source": [
    "#Mean age for service user\n",
    "cab['Age'].mean()"
   ]
  },
  {
   "cell_type": "code",
   "execution_count": 237,
   "metadata": {},
   "outputs": [
    {
     "data": {
      "text/plain": [
       "Company\n",
       "Pink Cab     35.32\n",
       "Yellow Cab   35.34\n",
       "Name: Age, dtype: float64"
      ]
     },
     "execution_count": 237,
     "metadata": {},
     "output_type": "execute_result"
    }
   ],
   "source": [
    "#Mean age for company users\n",
    "cab.groupby('Company')['Age'].mean()"
   ]
  },
  {
   "cell_type": "markdown",
   "metadata": {},
   "source": [
    "#### Distribution graph for all ages using the cab service:"
   ]
  },
  {
   "cell_type": "code",
   "execution_count": 322,
   "metadata": {},
   "outputs": [
    {
     "data": {
      "text/plain": [
       "<seaborn.axisgrid.FacetGrid at 0x7fe614621610>"
      ]
     },
     "execution_count": 322,
     "metadata": {},
     "output_type": "execute_result"
    },
    {
     "data": {
      "image/png": "[encoded data removed]",
      "text/plain": [
       "<Figure size 360x360 with 1 Axes>"
      ]
     },
     "metadata": {
      "needs_background": "light"
     },
     "output_type": "display_data"
    }
   ],
   "source": [
    "figsize = (15,5)\n",
    "sns.displot(data=cab, x= 'Age', kde = True, color = '#69d')"
   ]
  },
  {
   "cell_type": "markdown",
   "metadata": {},
   "source": [
    "#### Distribution graph for age for each company:"
   ]
  },
  {
   "cell_type": "code",
   "execution_count": 258,
   "metadata": {},
   "outputs": [
    {
     "data": {
      "text/plain": [
       "[Text(0.5, 0, 'Age for Pink Cab Users')]"
      ]
     },
     "execution_count": 258,
     "metadata": {},
     "output_type": "execute_result"
    },
    {
     "data": {
      "image/png": "[encoded data removed]",
      "text/plain": [
       "<Figure size 1080x360 with 2 Axes>"
      ]
     },
     "metadata": {
      "needs_background": "light"
     },
     "output_type": "display_data"
    }
   ],
   "source": [
    "fig, axes = plt.subplots(1,2, figsize= (15,5))\n",
    "sns.histplot(ax= axes[0],x= cab.Age[cab.Company == 'Yellow Cab'], kde = True, color = '#FFC300')\n",
    "sns.histplot(ax= axes[1],x= cab.Age[cab.Company == 'Pink Cab'], kde = True, color = '#A52A2A')\n",
    "axes[0].set(xlabel = 'Age for Yellow Cab Users')\n",
    "axes[1].set(xlabel = 'Age for Pink Cab Users')"
   ]
  },
  {
   "cell_type": "code",
   "execution_count": 264,
   "metadata": {},
   "outputs": [],
   "source": [
    "#number of customers under the age of 35\n",
    "underthirtyfive = cab[cab.Age <=35].Age.count()"
   ]
  },
  {
   "cell_type": "code",
   "execution_count": 265,
   "metadata": {},
   "outputs": [],
   "source": [
    "#number of customers over the age of 35\n",
    "overthirtyfive = cab[cab.Age >=35].Age.count()"
   ]
  },
  {
   "cell_type": "code",
   "execution_count": 283,
   "metadata": {},
   "outputs": [],
   "source": [
    "underpink= cab[(cab.Age <=35)& (cab.Company == 'Pink Cab')].Age.count()\n",
    "overpink = cab[(cab.Age >35)&(cab.Company == 'Pink Cab')].Age.count()"
   ]
  },
  {
   "cell_type": "code",
   "execution_count": 284,
   "metadata": {},
   "outputs": [],
   "source": [
    "underyell= cab[(cab.Age <=35)& (cab.Company == 'Yellow Cab')].Age.count()\n",
    "overyell = cab[(cab.Age >35)&(cab.Company == 'Yellow Cab')].Age.count()"
   ]
  },
  {
   "cell_type": "code",
   "execution_count": 309,
   "metadata": {},
   "outputs": [
    {
     "data": {
      "image/png": "[encoded data removed]",
      "text/plain": [
       "<Figure size 1080x360 with 2 Axes>"
      ]
     },
     "metadata": {
      "needs_background": "light"
     },
     "output_type": "display_data"
    }
   ],
   "source": [
    "fig, axes = plt.subplots(1,2, figsize= (15,5))\n",
    "sns.barplot(ax= axes[0],x= ['Under 35 or 35', 'Over 35'], y = [underthirtyfive, overthirtyfive], palette = 'husl')\n",
    "axes[1].pie(x= [underthirtyfive, overthirtyfive], labels = ['Under 35 or 35', 'Over 35'], colors = sns.set_palette('husl'), autopct= '%1.1f%%', explode = [0,0.1])\n",
    "plt.show()"
   ]
  },
  {
   "cell_type": "code",
   "execution_count": 293,
   "metadata": {},
   "outputs": [
    {
     "data": {
      "image/png": "[encoded data removed]",
      "text/plain": [
       "<Figure size 1080x360 with 2 Axes>"
      ]
     },
     "metadata": {},
     "output_type": "display_data"
    }
   ],
   "source": [
    "fig, axes = plt.subplots(1,2, figsize= (15,5))\n",
    "axes[0].pie(x= [underpink, overpink], labels = ['Under 35 or 35', 'Over 35'], colors =sns.color_palette([\"#E9967A\", \"#A52A2A\"]), autopct= '%1.1f%%', explode = [0,0.1])\n",
    "axes[1].pie(x= [underyell, overyell], labels = ['Under 35 or 35', 'Over 35'], colors =sns.color_palette([\"#FFD700\", \"#8B4513\"]), autopct= '%1.1f%%', explode = [0,0.1])\n",
    "axes[1].set(xlabel = 'Age for Yellow Cab Users')\n",
    "axes[0].set(xlabel = 'Age for Pink Cab Users')\n",
    "plt.show()"
   ]
  },
  {
   "cell_type": "markdown",
   "metadata": {},
   "source": [
    "### <i> Conclusion: Hypothesis is correct, people under or at the age of 35 use the cab service more in general and also at each company respectively. </i>"
   ]
  },
  {
   "cell_type": "markdown",
   "metadata": {},
   "source": [
    "# <center>...</center>"
   ]
  },
  {
   "cell_type": "markdown",
   "metadata": {},
   "source": [
    "#### Note: Hypotheses were explored using the population given as the whole population and therefore hypothesis testing was not employed as this was how the instructions indicated."
   ]
  },
  {
   "cell_type": "code",
   "execution_count": 295,
   "metadata": {},
   "outputs": [],
   "source": [
    "#saving master data\n",
    "cab.to_csv('masterdata.csv',index = False)"
   ]
  },
  {
   "cell_type": "code",
   "execution_count": null,
   "metadata": {},
   "outputs": [],
   "source": []
  }
 ],
 "metadata": {
  "kernelspec": {
   "display_name": "Python 3",
   "language": "python",
   "name": "python3"
  },
  "language_info": {
   "codemirror_mode": {
    "name": "ipython",
    "version": 3
   },
   "file_extension": ".py",
   "mimetype": "text/x-python",
   "name": "python",
   "nbconvert_exporter": "python",
   "pygments_lexer": "ipython3",
   "version": "3.7.4"
  }
 },
 "nbformat": 4,
 "nbformat_minor": 4
}
